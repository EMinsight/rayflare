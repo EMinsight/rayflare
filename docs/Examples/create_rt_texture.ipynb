{
 "cells": [
  {
   "cell_type": "markdown",
   "source": [],
   "metadata": {
    "collapsed": false
   }
  },
  {
   "cell_type": "code",
   "execution_count": null,
   "outputs": [],
   "source": [
    "import numpy as np\n",
    "import matplotlib.pyplot as plt\n",
    "from rayflare.textures import xyz_texture, heights_texture, planar_surface\n",
    "from rayflare.ray_tracing import rt_structure\n",
    "from rayflare.options import default_options\n",
    "from rayflare.transfer_matrix_method import tmm_structure\n",
    "\n",
    "from solcore import material\n",
    "from solcore.structure import Layer\n",
    "\n",
    "x_in = np.linspace(0, 10, 20)\n",
    "y_in = np.linspace(0, 10, 20)\n",
    "\n",
    "X, Y = np.meshgrid(x_in, y_in)\n",
    "\n",
    "# generate a random surface texture\n",
    "Z = np.random.randint(low=0, high=3, size=(len(x_in), len(y_in)))\n",
    "\n",
    "plt.figure()\n",
    "plt.imshow(Z)\n",
    "plt.show()\n",
    "\n",
    "x = X.flatten()\n",
    "y = Y.flatten()\n",
    "z = Z.flatten()\n",
    "\n",
    "# xyz_texture takes a 1D numpy array/list of x, y and z coordinates\n",
    "random_surf = xyz_texture(x, y, z)\n",
    "\n",
    "# can also use heights_texture; this takes a 2D array of z coordinates and the extent of the x and y axes\n",
    "random_surf_2 = heights_texture(Z, np.max(x_in), np.max(y_in))\n",
    "\n",
    "# random_surf and random_surf_2 are identical\n",
    "\n",
    "[front, back] = random_surf\n",
    "\n",
    "fig = plt.figure()\n",
    "ax = plt.subplot(projection='3d')\n",
    "ax.view_init(elev=50., azim=60)\n",
    "ax.plot_trisurf(front.Points[:,0], front.Points[:,1], front.Points[:,2],\n",
    "                triangles=front.simplices,  linewidth=1, color = (0.8, 0.8, 0.8, 0.8))\n",
    "ax.set_xlabel('x')\n",
    "ax.set_ylabel('y')\n",
    "ax.set_zlabel('z')\n",
    "\n",
    "plt.show()\n",
    "\n",
    "flat_surf = planar_surface(size=20)  # pyramid size in microns\n",
    "\n",
    "Air = material('Air')()\n",
    "Si = material('Si')()\n",
    "\n",
    "wavelengths = np.linspace(300, 1190, 20)*1e-9\n",
    "\n",
    "options = default_options()\n",
    "options.n_rays = 1000\n",
    "options.wavelengths = wavelengths\n",
    "\n",
    "# set up ray-tracing options\n",
    "rtstr = rt_structure(textures=[random_surf, flat_surf],\n",
    "                     materials=[Si],\n",
    "                     widths=[200e-6], incidence=Air, transmission=Air)\n",
    "result = rtstr.calculate(options)\n",
    "\n",
    "planar_struct = tmm_structure([Layer(200e-6, Si)], incidence=Air, transmission=Air)\n",
    "result_planar = planar_struct.calculate(options)\n",
    "\n",
    "plt.figure()\n",
    "plt.plot(wavelengths*1e9, result['R'], '-k', label='R')\n",
    "plt.plot(wavelengths*1e9, result['A_per_layer'][:,0], '-r', label='A')\n",
    "plt.plot(wavelengths*1e9, result['T'], '-b', label='T')\n",
    "plt.plot(wavelengths*1e9, result_planar['A_per_layer'][:,0], '--r', label='planar A')\n",
    "plt.legend()\n",
    "plt.xlabel('Wavelength (nm)')\n",
    "plt.ylabel('R/A/T')\n",
    "plt.autoscale(tight=True)\n",
    "plt.ylim(0,1)\n",
    "plt.show()\n",
    "\n",
    "plt.figure()\n",
    "plt.plot(wavelengths*1e9, np.mean(result['n_interactions'], 1), label='Mean number of surface interactions')\n",
    "plt.plot(wavelengths*1e9, np.mean(result['n_passes'], 1), label='Mean number of passes')\n",
    "plt.xlabel('Wavelength (nm)')\n",
    "plt.ylabel('N')\n",
    "plt.autoscale(tight=True)\n",
    "plt.legend()\n",
    "plt.show()"
   ],
   "metadata": {
    "collapsed": false,
    "pycharm": {
     "name": "#%%\n"
    }
   }
  },
  {
   "cell_type": "markdown",
   "source": [],
   "metadata": {
    "collapsed": false
   }
  },
  {
   "cell_type": "code",
   "execution_count": null,
   "outputs": [],
   "source": [],
   "metadata": {
    "collapsed": false,
    "pycharm": {
     "name": "#%%\n"
    }
   }
  }
 ],
 "metadata": {
  "kernelspec": {
   "display_name": "Python 3",
   "language": "python",
   "name": "python3"
  },
  "language_info": {
   "codemirror_mode": {
    "name": "ipython",
    "version": 2
   },
   "file_extension": ".py",
   "mimetype": "text/x-python",
   "name": "python",
   "nbconvert_exporter": "python",
   "pygments_lexer": "ipython2",
   "version": "2.7.6"
  }
 },
 "nbformat": 4,
 "nbformat_minor": 0
}